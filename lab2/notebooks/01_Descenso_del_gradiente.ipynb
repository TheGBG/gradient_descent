{
 "cells": [
  {
   "cell_type": "markdown",
   "metadata": {},
   "source": [
    "### Nombre y apellidos: Gabriel Blanco García.  \n",
    "#### Máster en Data Science para Finanzas: Machine Learning.  \n",
    "\n",
    "Madrid, noviembre de 2020\n",
    "\n",
    "# Práctica 2\n",
    "## Conceptos básicos: regresión logística y descenso del gradiente en Python"
   ]
  },
  {
   "cell_type": "markdown",
   "metadata": {},
   "source": [
    "# Índice \n",
    "\n",
    "1. [Objetivo de la práctica](#Objetivo-de-la-prática)\n",
    "2. [Explicación teórica](#Explicación-teórica)  \n",
    "    2.1 [Un ejemplo simple](#Un-ejemplo-simple)  \n",
    "    2.2 [Concepto matemático y aplicación en regresión logística](#Concepto-matemático-y-aplicación-en-regresión-logística)\n",
    "3. [Implementación práctica](#Implementación-práctica)  \n",
    "    3.1 [Caso práctico: acceso a la universidad](#Caso-práctico:-acceso-a-la-universidad)  \n",
    "    3.2 [Datos](#Datos)  \n",
    "    3.3 [Definición de la función Sigmoide](#Definición-de-la-función-Sigmoide)  \n",
    "    3.4 [Definición de la función de coste](#Definición-de-la-función-de-coste)   \n",
    "    3.5 [Definición de los valores iniciales](#Definición-de-los-valores-iniciales])     \n",
    "    3.6 [Descenso del gradiente](#Descenso-del-gradiente)  \n",
    "    3.7 [Visualización del descenso](#Visualización-del-descenso)    \n",
    "4. [Predicciones](#Predicciones)\n",
    "5. [Referencias](#Referencias)\n",
    "    "
   ]
  },
  {
   "cell_type": "markdown",
   "metadata": {},
   "source": [
    "# Objetivo de la práctica\n",
    "El objetivo de esta práctica es explicar con el mayor grado de detalle posible el concepto del descenso del gradiente y su uso en Machine Learning. Para ello, primero se ejemplifica y se explica el concepto de manera teórica, y después se pone en práctica con Python, y se demuestra su funcionamiento"
   ]
  },
  {
   "cell_type": "markdown",
   "metadata": {},
   "source": [
    "# Explicación teórica"
   ]
  },
  {
   "cell_type": "markdown",
   "metadata": {},
   "source": [
    "### Un ejemplo simple"
   ]
  },
  {
   "cell_type": "markdown",
   "metadata": {},
   "source": [
    "Imaginemos que estamos ciegos en una montaña de la necesitamos descender sin ayuda. No tenemos claro hacia donde ir, lo único que tenemos es un gadget que determina la altura a la que estamos y un registro de los pasos que vamos dando. \n",
    "\n",
    "Para poder descender, comenzamos dando un paso, de un determinado tamaño, en una dirección, y comprobamos la altura. Después,\n",
    "para seguir avanzando, damos el siguiente paso en función del paso anterior, y así sucesivamente hasta que finalmente, conseguimos bajar de la montaña. Estos conceptos son importantes para poder entender el proceso matemático"
   ]
  },
  {
   "cell_type": "markdown",
   "metadata": {},
   "source": [
    "- Tamaño de los pasos que se dan en cualquier dirección: tasa de aprendizaje.\n",
    "- El gadget que me dice la altura: función de coste. \n",
    "- La dirección de los pasos: gradientes."
   ]
  },
  {
   "cell_type": "markdown",
   "metadata": {},
   "source": [
    "Entonces, si el gadget que determina nuestra altitud es la función de coste, y la altura a la que estamos depende de los pasos \n",
    "que damos, querremos dar los pasos __en la dirección__ que minimice la altura, es decir, la función de coste"
   ]
  },
  {
   "cell_type": "markdown",
   "metadata": {},
   "source": [
    "En contexto de machine learning, lo que se persigue es modificar los parámetros de tal manera que se minimice el error predictivo, es decir, encontrar la combinación de parámetros que consiguen generar el mínimo error. Para ello, es fundamental el concepto de función de pérdida. La función de pérdida no es otra cosa que la formalización matemática que, dadas una serie de predicciones, devuelve el valor del error"
   ]
  },
  {
   "cell_type": "markdown",
   "metadata": {},
   "source": [
    "Para poder encontrar (o intentarlo) el punto mínimo de dicha función, es necesario hacer las derivadas parciales de la función respecto a cada uno de los parámetros, que son los indicadores del próximo paso, o predicción, que se efectúa"
   ]
  },
  {
   "cell_type": "markdown",
   "metadata": {},
   "source": [
    "### Concepto matemático y aplicación en regresión logística"
   ]
  },
  {
   "cell_type": "markdown",
   "metadata": {},
   "source": [
    "El descenso del gradiente puede aplicarse a problemas de clasificación mediante el uso de la regresión logística, pero también puede aplicarse a otros casos, como el de regresión lineal. En Machine Learning, se hace uso de la optimización en numerosos escenarios. Al fin y al cabo, cuando se estiman los modelos con fines predictivos, lo que se busca es precisamente aquellos modelos con menor error al predecir sobre __datos nuevos__, es decir, aquellas combinaciones de parámetros y/o modelos que __minimicen el error__, sea cual sea la función que se utilice para determinar dicho error"
   ]
  },
  {
   "cell_type": "markdown",
   "metadata": {},
   "source": [
    "En el caso de la regresión logística, la función que se puede emplear para predecir es la Sigmoide\n",
    "\n",
    "$$\\sigma \\left ( x \\right ) = \\frac{1}{1 +e^{-x}}$$\n",
    "\n",
    "Es uno de los modelos de regresión que se emplean cuando la variable dependeinte es categórica.\n",
    "\n",
    "Necesitamos encontrar los valores de $w \\in \\mathbb{R}^n$ y de $b \\in \\mathbb{R}$ dodne $\\hat{y} = \\sigma(w^Tx + b) = \\sigma(z) \\approx y$ y $\\sigma(z) = \\frac{1}{1 + e^{-z}}$\n",
    "de tal manera que se minimice el error\n",
    "\n",
    "La función de pérdida, es decir, la que calcula el es la siguiente  \n",
    "$$\\ell(y, \\hat{y}) = -(ylog(\\hat{y}) + (1 - y)log(1 - \\hat{y})$$\n",
    "\n",
    "\n",
    "La función de coste, por su parte, agrega los resultados para cada x e y. En el caso de la regresión logística es \n",
    "$$\\jmath(w, b) = \\frac{1}{n}\\sum_{1}^{n}\\ell(y^{i} \\hat{y}^{i}) = -\\frac{1}{n}\\sum_{1}^{n}((y^{i}log(\\hat{y}^{i}) + (y^{i} +1)log(1 - \\hat{y}^{i}))$$\n",
    "\n",
    "La parte de la fracción y el sumatorio hacen que el cálculo del error sea medio.\n",
    "\n",
    "El objetivo es por tanto, encontrar los parámetros y la constante que minimicen el coste\n",
    "\n",
    "El proceso es iterativo, y cada paso que se da se calcula como:  \n",
    "\n",
    "$w = w - \\alpha\\frac{\\partial\\jmath(w, b)}{\\partial w}$  \n",
    "  \n",
    "$b = b - \\alpha\\frac{\\partial\\jmath(w, b)}{\\partial b}$\n",
    "\n",
    "El valor del siguiente paso es el valor del anterior menos la tasa de aprendizaje por la derivada parcial de la función de coste para dichos puntos"
   ]
  },
  {
   "cell_type": "markdown",
   "metadata": {},
   "source": [
    "## Implementación  práctica"
   ]
  },
  {
   "cell_type": "markdown",
   "metadata": {},
   "source": [
    "A continuación se utiliza un ejemplo de clasificación para poner en práctica los conceptos expuestos"
   ]
  },
  {
   "cell_type": "markdown",
   "metadata": {},
   "source": [
    "### Caso práctico: acceso a la universidad"
   ]
  },
  {
   "cell_type": "markdown",
   "metadata": {},
   "source": [
    "Tenemos un conjunto de datos de aplicantes a una universidad con las notas de dos exámenes. Conocemos las notas de ambos exámenes y si han entrado o no en la universidad. El objetivo es construir un modelo que recoja la relación entre las notas y si el aplicante ha entrado o no. Con dicho modelo, se pretende estimar, para unas notas dadas de un nuevo estudiante, la probabilidad que tiene de entrar en la universidad"
   ]
  },
  {
   "cell_type": "markdown",
   "metadata": {},
   "source": [
    "### Datos"
   ]
  },
  {
   "cell_type": "code",
   "execution_count": 109,
   "metadata": {},
   "outputs": [],
   "source": [
    "# Carga de librerías\n",
    "import pandas as pd\n",
    "import numpy as np\n",
    "import matplotlib.pyplot as plt\n",
    "import seaborn as sns"
   ]
  },
  {
   "cell_type": "code",
   "execution_count": 141,
   "metadata": {},
   "outputs": [
    {
     "data": {
      "text/html": [
       "<div>\n",
       "<style scoped>\n",
       "    .dataframe tbody tr th:only-of-type {\n",
       "        vertical-align: middle;\n",
       "    }\n",
       "\n",
       "    .dataframe tbody tr th {\n",
       "        vertical-align: top;\n",
       "    }\n",
       "\n",
       "    .dataframe thead th {\n",
       "        text-align: right;\n",
       "    }\n",
       "</style>\n",
       "<table border=\"1\" class=\"dataframe\">\n",
       "  <thead>\n",
       "    <tr style=\"text-align: right;\">\n",
       "      <th></th>\n",
       "      <th>score-1</th>\n",
       "      <th>score-2</th>\n",
       "      <th>label</th>\n",
       "    </tr>\n",
       "  </thead>\n",
       "  <tbody>\n",
       "    <tr>\n",
       "      <th>0</th>\n",
       "      <td>34.623660</td>\n",
       "      <td>78.024693</td>\n",
       "      <td>0</td>\n",
       "    </tr>\n",
       "    <tr>\n",
       "      <th>1</th>\n",
       "      <td>30.286711</td>\n",
       "      <td>43.894998</td>\n",
       "      <td>0</td>\n",
       "    </tr>\n",
       "    <tr>\n",
       "      <th>2</th>\n",
       "      <td>35.847409</td>\n",
       "      <td>72.902198</td>\n",
       "      <td>0</td>\n",
       "    </tr>\n",
       "    <tr>\n",
       "      <th>3</th>\n",
       "      <td>60.182599</td>\n",
       "      <td>86.308552</td>\n",
       "      <td>1</td>\n",
       "    </tr>\n",
       "    <tr>\n",
       "      <th>4</th>\n",
       "      <td>79.032736</td>\n",
       "      <td>75.344376</td>\n",
       "      <td>1</td>\n",
       "    </tr>\n",
       "  </tbody>\n",
       "</table>\n",
       "</div>"
      ],
      "text/plain": [
       "     score-1    score-2  label\n",
       "0  34.623660  78.024693      0\n",
       "1  30.286711  43.894998      0\n",
       "2  35.847409  72.902198      0\n",
       "3  60.182599  86.308552      1\n",
       "4  79.032736  75.344376      1"
      ]
     },
     "execution_count": 141,
     "metadata": {},
     "output_type": "execute_result"
    }
   ],
   "source": [
    "# Lectura de los datos\n",
    "datos = pd.read_csv('../data/raw/01_raw/4_1_data.csv')\n",
    "datos.head()"
   ]
  },
  {
   "cell_type": "code",
   "execution_count": 142,
   "metadata": {},
   "outputs": [],
   "source": [
    "# Renombro las columnas\n",
    "datos.rename(columns = {'score-1': 'score.1', 'score-2': 'score.2', 'label': 'Admision'}, inplace = True)\n",
    "\n",
    "# La variable admision toma el valor 1 si el estudiante consiguió entrar en la universidad y 0 si no."
   ]
  },
  {
   "cell_type": "code",
   "execution_count": 150,
   "metadata": {},
   "outputs": [
    {
     "data": {
      "image/png": "[encoded data removed]",
      "text/plain": [
       "<Figure size 720x360 with 1 Axes>"
      ]
     },
     "metadata": {
      "needs_background": "light"
     },
     "output_type": "display_data"
    }
   ],
   "source": [
    "f,ax = plt.subplots(figsize=(10, 5))\n",
    "\n",
    "# Cambio los colores de la paleta: no admitidos en rojo, admitidos en verde\n",
    "colores = {0: \"red\", 1: \"green\"}\n",
    "\n",
    "g = sns.scatterplot(\n",
    "    x=\"score.1\",\n",
    "    y=\"score.2\",\n",
    "    data=datos,\n",
    "    hue='Admision', \n",
    "    palette=colores)\n",
    "\n",
    "g.set_title('Grafico de dispersion de los aplicantes a la universidad')\n",
    "g.set_xlabel('Score 1')\n",
    "g.set_ylabel('Score 2')\n",
    "\n",
    "g.legend(title='Clase');"
   ]
  },
  {
   "cell_type": "markdown",
   "metadata": {},
   "source": [
    "### Definición de la función Sigmoide"
   ]
  },
  {
   "cell_type": "markdown",
   "metadata": {},
   "source": [
    "Recordemos que esta no es la función a minimizar. La utilizamos para predecir, e irá dentro de la función de coste para el cálculo de los errores. La función a programar es $\\sigma \\left ( x \\right ) = \\frac{1}{1 +e^{-x}}$"
   ]
  },
  {
   "cell_type": "code",
   "execution_count": 113,
   "metadata": {},
   "outputs": [],
   "source": [
    "def funcion_sigmoide(x):\n",
    "    return 1 / (1 + np.exp(-x)) # np.exp es la función de numpy para elevar el numero de Euler a otro numero"
   ]
  },
  {
   "cell_type": "code",
   "execution_count": 114,
   "metadata": {},
   "outputs": [
    {
     "data": {
      "text/plain": [
       "0.5"
      ]
     },
     "execution_count": 114,
     "metadata": {},
     "output_type": "execute_result"
    }
   ],
   "source": [
    "funcion_sigmoide(0) # cualquier número elevado a 0 es 1, luego 1 / (1 + 1) es 0.5. La función funciona"
   ]
  },
  {
   "cell_type": "markdown",
   "metadata": {},
   "source": [
    "### Definición de la función de coste"
   ]
  },
  {
   "cell_type": "markdown",
   "metadata": {},
   "source": [
    "Recordemos que es la función que compara lo que se predice con la realidad, para devolver el error."
   ]
  },
  {
   "cell_type": "code",
   "execution_count": 115,
   "metadata": {},
   "outputs": [],
   "source": [
    "def calcular_coste(beta, x, y): # y es el valor real del dato que se busca predecir\n",
    "    m = len(y) # se utilizará para el denominador de la media \n",
    "    prediccion_y = funcion_sigmoide(np.dot(x, beta)) # la sigmoide es la función con la que predecimos, previamente definida\n",
    "                                                  # np.dot() ejecuta el producto matricial de x y c\n",
    "    \n",
    "    error = (y * np.log(prediccion_y)) + ((1 - y) * np.log(1 - prediccion_y)) # el error se calcula con la función de coste\n",
    "                                                                              # log loss, explicada arriba. \n",
    "                                                                              # np.log() calcula el logaritmo\n",
    "                                                                              # \"y\" es el valor real, \"prediccio_y\" \n",
    "                                                                              # el estimado\n",
    "     \n",
    "    coste = -1 / m * sum(error) # el sumatorio\n",
    "    \n",
    "    gradiente = 1 / m * np.dot(x.transpose(), (prediccion_y - y)) # el gradiente se calcúla con las derivadas parciales \n",
    "                                                                  # respecto a los parámetros\n",
    "                                                                  # np.dot() es el producto matricial de la matriz \n",
    "                                                                  # de parámetros traspuesta (transpose) y la diferencia \n",
    "                                                                  # entre el valor predecido y el real\n",
    "                    \n",
    "    return coste[0], gradiente # los valores que queremos"
   ]
  },
  {
   "cell_type": "markdown",
   "metadata": {},
   "source": [
    "### Definición de los valores iniciales"
   ]
  },
  {
   "cell_type": "markdown",
   "metadata": {},
   "source": [
    "Debido a que el método es iterativo y trabaja sobre los datos que el mismo genera, es necesario definir los valores iniciales\n",
    "sobre los eque pueda trabajar"
   ]
  },
  {
   "cell_type": "code",
   "execution_count": 116,
   "metadata": {},
   "outputs": [],
   "source": [
    "notas = datos[['score.1', 'score.2']].values # extraigo los valores de las notas de la tabla, para hacer la matriz de \n",
    "                                             # predicctores\n",
    "    \n",
    "resultado = datos['admision'].values # extraigo el valor de la variable a predecir, que se usara para calcular el error"
   ]
  },
  {
   "cell_type": "code",
   "execution_count": 117,
   "metadata": {},
   "outputs": [
    {
     "name": "stdout",
     "output_type": "stream",
     "text": [
      "El coste inicial es : 0.693147180559946 y el gradiente es : [[-0.1       ]\n",
      " [-0.28122914]\n",
      " [-0.25098615]]\n"
     ]
    }
   ],
   "source": [
    "# Primero hay que normalizar los datos\n",
    "nota_media = np.mean(notas, axis=0)\n",
    "desviacion_notas = np.std(notas, axis=0)\n",
    "notas = (notas - nota_media) / desviacion_notas\n",
    "\n",
    "# Después se construye la matriz \n",
    "\n",
    "filas = notas.shape[0] # numero de filas de la matriz, 100\n",
    "columnas = notas.shape[1] # numero de columnas de la matriz, 2\n",
    "\n",
    "# En mayuscula, la matriz\n",
    "X = np.append(np.ones((filas, 1)), notas, axis=1) # axis = 1 para incluir la constante\n",
    "y = resultado.reshape(filas, 1)  # paso la variable dependiente a forma de vector\n",
    "\n",
    "\n",
    "# Defino los valores iniciales\n",
    "beta_inicial = np.zeros((columnas + 1, 1))\n",
    "\n",
    "#  Coste y gradiente inicial\n",
    "coste, gradiente = calcular_coste(beta_inicial, X, y)\n",
    "\n",
    "print('El coste inicial es :', coste, 'y el gradiente es :', gradiente)"
   ]
  },
  {
   "cell_type": "markdown",
   "metadata": {},
   "source": [
    "### Descenso del gradiente"
   ]
  },
  {
   "cell_type": "markdown",
   "metadata": {},
   "source": [
    "Ahora hay que porgramar el descenso de tal manera que actualice los valores en base a la tasa de aprendizaje y a la dirección que dan las derivadas de la función de coste. Tamién hay que incluir el número límite de iteraciones. El tamaño de los pasos ha de ligado a la pendiente de la curva, que indica cuando dar pasoss grandes, y cuando darlos pequeños. Cuando la pendiente se acerca a 0, hay que dar pasos cortos porque se está acercando la solución.   "
   ]
  },
  {
   "cell_type": "code",
   "execution_count": 127,
   "metadata": {},
   "outputs": [],
   "source": [
    "def descenso_del_gradiente (x, y, beta, tasa_aprendizaje, iteraciones):\n",
    "    \n",
    "    registro_de_costes = [] # inicialización del objeto que almacenará los costes de cada iteración\n",
    "    for i in range(iteraciones): # por cada elemento del rango 1 a iteraciones...\n",
    "        \n",
    "        coste, gradiente = calcular_coste(beta, x, y) # aplicacion de la función de coste ya definida,\n",
    "                                                      # que toma como inputs los parametros \n",
    "            \n",
    "        beta = beta - (tasa_aprendizaje * gradiente) # se calcula el nuevo paso en función del anterior, de la tasa \n",
    "                                                   # de aprendizaje y del gradiente\n",
    "            \n",
    "        registro_de_costes.append(coste) # se va añadiendo el coste a la lista \n",
    "    \n",
    "    return beta, registro_de_costes"
   ]
  },
  {
   "cell_type": "code",
   "execution_count": 128,
   "metadata": {},
   "outputs": [
    {
     "name": "stdout",
     "output_type": "stream",
     "text": [
      "El resultado tras 15000 iteraciones con una tasa de aprendizaje de  0.1 es: \n",
      " beta: [[1.71844948]\n",
      " [3.99278759]\n",
      " [3.72513649]] \n",
      "mínimo coste: 0.20349770159874722\n"
     ]
    }
   ],
   "source": [
    "# Lanzamos el gradiente\n",
    "\n",
    "tasa_aprendizaje = 0.1\n",
    "iteraciones = 15000\n",
    "beta, registro_de_costes = descenso_del_gradiente(X, # matriz de los valores de los predictores (las notas) y la constante \n",
    "                                                  y, # valor de la variable dependiente \n",
    "                                                  beta_inicial, # la beta que hemos inicializado antes, se va a ir actualizando \n",
    "                                                  tasa_aprendizaje = tasa_aprendizaje, \n",
    "                                                  iteraciones = iteraciones)\n",
    "\n",
    "print('El resultado tras', iteraciones , 'iteraciones', \n",
    "      'con una tasa de aprendizaje de ', tasa_aprendizaje, \n",
    "      'es: \\n beta:', beta, '\\nmínimo coste:', registro_de_costes[-1])"
   ]
  },
  {
   "cell_type": "markdown",
   "metadata": {},
   "source": [
    "### Visualización del descenso"
   ]
  },
  {
   "cell_type": "markdown",
   "metadata": {},
   "source": [
    "El gráfico siguiente muestra como va disminuyendo el error con cada iteración"
   ]
  },
  {
   "cell_type": "code",
   "execution_count": 120,
   "metadata": {},
   "outputs": [
    {
     "data": {
      "image/png": "[encoded data removed]",
      "text/plain": [
       "<Figure size 720x360 with 1 Axes>"
      ]
     },
     "metadata": {
      "needs_background": "light"
     },
     "output_type": "display_data"
    }
   ],
   "source": [
    "# Grafico del proceso\n",
    "# 15000 iteraciones y tasa de aprendizaje de 0.1\n",
    "f,ax = plt.subplots(figsize=(10, 5))\n",
    "plt.plot(registro_de_costes, color='red')\n",
    "plt.title('Descenso con 15000 iteraciones');"
   ]
  },
  {
   "cell_type": "markdown",
   "metadata": {},
   "source": [
    "Podemos observar que sobran algunas iteracioens, parece que con 4000 quizá sea suficiente"
   ]
  },
  {
   "cell_type": "code",
   "execution_count": 121,
   "metadata": {
    "scrolled": true
   },
   "outputs": [
    {
     "data": {
      "image/png": "[encoded data removed]",
      "text/plain": [
       "<Figure size 720x360 with 1 Axes>"
      ]
     },
     "metadata": {
      "needs_background": "light"
     },
     "output_type": "display_data"
    }
   ],
   "source": [
    "# Vuelvo a lanzar el gradiente\n",
    "tasa_aprendizaje = 0.1\n",
    "iteraciones = 4000\n",
    "beta, registro_de_costes = descenso_del_gradiente(X, \n",
    "                                                  y, \n",
    "                                                  beta_inicial, \n",
    "                                                  tasa_aprendizaje = tasa_aprendizaje, \n",
    "                                                  iteraciones = iteraciones)\n",
    "\n",
    "\n",
    "# 4000 iteraciones y tasa de aprendizaje de 0.1\n",
    "f,ax = plt.subplots(figsize=(10, 5))\n",
    "plt.plot(registro_de_costes, color='red')\n",
    "plt.title('Descenso con 4000 iteraciones');"
   ]
  },
  {
   "cell_type": "code",
   "execution_count": 126,
   "metadata": {
    "scrolled": true
   },
   "outputs": [
    {
     "data": {
      "image/png": "[encoded data removed]",
      "text/plain": [
       "<Figure size 720x360 with 1 Axes>"
      ]
     },
     "metadata": {
      "needs_background": "light"
     },
     "output_type": "display_data"
    }
   ],
   "source": [
    "# Vuelvo a lanzar el gradiente, ahora con 2500\n",
    "tasa_aprendizaje = 0.1\n",
    "iteraciones = 2500\n",
    "beta, registro_de_costes = descenso_del_gradiente(X, \n",
    "                                                  y, \n",
    "                                                  beta_inicial, \n",
    "                                                  tasa_aprendizaje = tasa_aprendizaje, \n",
    "                                                  iteraciones = iteraciones)\n",
    "\n",
    "\n",
    "# 1200 iteraciones y tasa de aprendizaje de 0.1\n",
    "f,ax = plt.subplots(figsize=(10, 5))\n",
    "plt.plot(registro_de_costes, color='red')\n",
    "plt.title('Descenso con 2500 iteraciones');"
   ]
  },
  {
   "cell_type": "markdown",
   "metadata": {},
   "source": [
    "### Predicciones"
   ]
  },
  {
   "cell_type": "markdown",
   "metadata": {},
   "source": [
    "Naturalmente, los parámetros obtenidos durante el proceso pueden utilizarse para predecir. Recordemos que el objetivo es \n",
    "encontrar los parámetros que minimizan la función de coste, o sea, que predicen mejor. A continuación se define la función para \n",
    "poder calcular la precisión"
   ]
  },
  {
   "cell_type": "code",
   "execution_count": 123,
   "metadata": {},
   "outputs": [],
   "source": [
    "def predictor (beta, x):\n",
    "    resultado = x.dot(beta)\n",
    "    return resultado > 0"
   ]
  },
  {
   "cell_type": "code",
   "execution_count": 124,
   "metadata": {},
   "outputs": [
    {
     "name": "stdout",
     "output_type": "stream",
     "text": [
      "Precisión en entrenamiento: 89 %\n"
     ]
    }
   ],
   "source": [
    "pred = predictor(beta, X) # aplico la prediccion sobre los datos para ver las metricas de entrenamiento\n",
    "    \n",
    "print('Precisión en entrenamiento:', sum(pred == y)[0],'%')"
   ]
  },
  {
   "cell_type": "code",
   "execution_count": 125,
   "metadata": {},
   "outputs": [
    {
     "name": "stdout",
     "output_type": "stream",
     "text": [
      "Una persona con un 85 en el primer examen y un 55 en el segundo examen tiene una probabilidad de entrar  de 0.97\n"
     ]
    }
   ],
   "source": [
    "# Lo pruebo sobre datos nuevos\n",
    "\n",
    "# Defino las notas del candidato \n",
    "primera_nota = 85\n",
    "segunda_nota = 55\n",
    "\n",
    "# Construyo el vector y normalizo los datos\n",
    "test = np.array([primera_nota, segunda_nota]) \n",
    "test = (test - nota_media) / desviacion_notas\n",
    "test = np.append(np.ones(1), test)\n",
    "\n",
    "probabilidad_ingreso = funcion_sigmoide(test.dot(beta))\n",
    "\n",
    "print('Una persona con un', primera_nota, 'en el primer examen', \n",
    "      'y un', segunda_nota, 'en el segundo examen tiene una probabilidad de entrar  de', np.round(probabilidad_ingreso[0], 2))"
   ]
  },
  {
   "cell_type": "markdown",
   "metadata": {},
   "source": [
    "## Referencias \n",
    "A continuación se incluyen las referencias del material empleado para la práctica\n",
    "- Stat Quest: canal de Machine Learning con explicaciones teóricas. [Gradient Descent, Step-by-Step (regresión lineal)](https://www.youtube.com/watch?v=sDv4f4s2SB8)\n",
    "- Repositorio con el material de clase: [Diego Bodas: machine_learning_basics](https://github.com/diegobodas/machine_learning_basics)\n",
    "- Repositorio con explicación del proceso: [lmntrixsid](https://github.com/lmntrixsid/Linear-and-Logistic-Regression-with-NumPy-and-Python)\n",
    "- Ecuaciones en LaTex: [LaTex/Mathematics](https://en.wikibooks.org/wiki/LaTeX/Mathematics)"
   ]
  }
 ],
 "metadata": {
  "kernelspec": {
   "display_name": "gradient_descent_env",
   "language": "python",
   "name": "gradient_descent_env"
  },
  "language_info": {
   "codemirror_mode": {
    "name": "ipython",
    "version": 3
   },
   "file_extension": ".py",
   "mimetype": "text/x-python",
   "name": "python",
   "nbconvert_exporter": "python",
   "pygments_lexer": "ipython3",
   "version": "3.8.5"
  }
 },
 "nbformat": 4,
 "nbformat_minor": 2
}
